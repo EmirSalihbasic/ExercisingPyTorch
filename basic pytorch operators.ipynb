{
 "cells": [
  {
   "cell_type": "code",
   "execution_count": 1,
   "id": "cde4001e",
   "metadata": {},
   "outputs": [],
   "source": [
    "import torch\n"
   ]
  },
  {
   "cell_type": "code",
   "execution_count": 3,
   "id": "a77b6b20",
   "metadata": {},
   "outputs": [
    {
     "name": "stdout",
     "output_type": "stream",
     "text": [
      "tensor([[1, 0],\n",
      "        [2, 0]])\n",
      "tensor([[3, 0],\n",
      "        [4, 0]])\n"
     ]
    }
   ],
   "source": [
    "# create 2 tensors\n",
    "u = torch.tensor ([[1,0],[2,0]])\n",
    "v = torch.tensor([[3,0],[4,0]])\n",
    "\n",
    "print(u)\n",
    "print(v)"
   ]
  },
  {
   "cell_type": "code",
   "execution_count": 4,
   "id": "a57ec9c2",
   "metadata": {},
   "outputs": [
    {
     "name": "stdout",
     "output_type": "stream",
     "text": [
      "tensor([[4, 0],\n",
      "        [6, 0]])\n",
      "tensor([[-2,  0],\n",
      "        [-2,  0]])\n"
     ]
    }
   ],
   "source": [
    "#perform some additions and substractions\n",
    "print(u + v)\n",
    "print(u - v)"
   ]
  },
  {
   "cell_type": "code",
   "execution_count": 7,
   "id": "6991e6af",
   "metadata": {},
   "outputs": [
    {
     "name": "stdout",
     "output_type": "stream",
     "text": [
      "Common functions:\n",
      "<built-in method abs of type object at 0x00007FFE77016560>\n",
      "tensor([[-0., 1., -0., -0.],\n",
      "        [1., 1., -0., 1.]])\n",
      "tensor([[-1.,  0., -1., -1.],\n",
      "        [ 0.,  0., -1.,  0.]])\n",
      "tensor([[-0.5000,  0.5000, -0.3922, -0.1144],\n",
      "        [ 0.5000,  0.5000, -0.4153,  0.5000]])\n"
     ]
    }
   ],
   "source": [
    "#try some common tensor functions\n",
    "a = torch.rand (2,4)* 2 - 1\n",
    "print('Common functions:')\n",
    "print(torch.abs)\n",
    "print(torch.ceil(a))\n",
    "print(torch.floor(a))\n",
    "print(torch.clamp(a, -0.5, 0.5 ) )"
   ]
  },
  {
   "cell_type": "code",
   "execution_count": 8,
   "id": "8b9936ee",
   "metadata": {},
   "outputs": [
    {
     "name": "stdout",
     "output_type": "stream",
     "text": [
      "tensor([1., 2., 3., 4., 5.])\n",
      "<built-in method mean of Tensor object at 0x0000022EA51E56D0>\n"
     ]
    }
   ],
   "source": [
    "#Reduction function using mean\n",
    "\n",
    "x = torch.tensor([1,2,3,4,5],dtype=torch.float32)\n",
    "print(x)\n",
    "print(x.mean)"
   ]
  },
  {
   "cell_type": "code",
   "execution_count": 9,
   "id": "8e009a73",
   "metadata": {},
   "outputs": [
    {
     "name": "stdout",
     "output_type": "stream",
     "text": [
      "tensor(5.)\n",
      "tensor(1.)\n"
     ]
    }
   ],
   "source": [
    "#More reduction function using min and max\n",
    "print(x.max())\n",
    "print(x.min())"
   ]
  },
  {
   "cell_type": "code",
   "execution_count": 11,
   "id": "75ba6712",
   "metadata": {},
   "outputs": [
    {
     "name": "stdout",
     "output_type": "stream",
     "text": [
      "tensor([0.0000, 1.5708, 3.1416])\n",
      "tensor([ 0.0000e+00,  1.0000e+00, -8.7423e-08])\n",
      "tensor([ 1.0000e+00, -4.3711e-08, -1.0000e+00])\n"
     ]
    }
   ],
   "source": [
    "#trigonometric functions and their inverse\n",
    "import numpy as np\n",
    "x = torch.tensor([0,np.pi/2,np.pi])\n",
    "print(x)\n",
    "print(torch.sin(x))\n",
    "print(torch.cos(x))"
   ]
  },
  {
   "cell_type": "code",
   "execution_count": 14,
   "id": "e607f2f0",
   "metadata": {},
   "outputs": [
    {
     "name": "stdout",
     "output_type": "stream",
     "text": [
      "tensor([-1.5708, -1.5677, -1.5645, -1.5614, -1.5582])\n",
      "tensor([1.5582, 1.5614, 1.5645, 1.5677, 1.5708])\n",
      "tensor([-1.0000, -1.0000, -1.0000, -1.0000, -0.9999])\n",
      "tensor([-4.3711e-08,  3.1447e-03,  6.2894e-03,  9.4340e-03,  1.2579e-02])\n"
     ]
    }
   ],
   "source": [
    "#get an evenly spaced list of numbers between a range\n",
    "pi = torch.linspace (-np.pi/2 , np.pi/2 , steps = 1000)\n",
    "print(pi[:5])\n",
    "print(pi[-5:])\n",
    "\n",
    "sined = torch.sin(pi)\n",
    "cosed = torch.cos(pi)\n",
    "print(sined[0:5])\n",
    "print(cosed[0:5])"
   ]
  },
  {
   "cell_type": "code",
   "execution_count": 1,
   "id": "479e70a0",
   "metadata": {},
   "outputs": [
    {
     "ename": "NameError",
     "evalue": "name 'sined' is not defined",
     "output_type": "error",
     "traceback": [
      "\u001b[1;31m---------------------------------------------------------------------------\u001b[0m",
      "\u001b[1;31mNameError\u001b[0m                                 Traceback (most recent call last)",
      "\u001b[1;32m~\\AppData\\Local\\Temp\\ipykernel_13972\\1006549054.py\u001b[0m in \u001b[0;36m<module>\u001b[1;34m\u001b[0m\n\u001b[0;32m      1\u001b[0m \u001b[1;31m#use matplotlib to visualize\u001b[0m\u001b[1;33m\u001b[0m\u001b[1;33m\u001b[0m\u001b[0m\n\u001b[0;32m      2\u001b[0m \u001b[1;32mimport\u001b[0m \u001b[0mmatplotlib\u001b[0m\u001b[1;33m.\u001b[0m\u001b[0mpyplot\u001b[0m \u001b[1;32mas\u001b[0m \u001b[0mplt\u001b[0m\u001b[1;33m\u001b[0m\u001b[1;33m\u001b[0m\u001b[0m\n\u001b[1;32m----> 3\u001b[1;33m \u001b[0mplt\u001b[0m\u001b[1;33m.\u001b[0m\u001b[0mplot\u001b[0m\u001b[1;33m(\u001b[0m\u001b[0msined\u001b[0m\u001b[1;33m,\u001b[0m \u001b[0mlabel\u001b[0m \u001b[1;33m=\u001b[0m \u001b[1;34m\"sined\"\u001b[0m\u001b[1;33m)\u001b[0m\u001b[1;33m\u001b[0m\u001b[1;33m\u001b[0m\u001b[0m\n\u001b[0m\u001b[0;32m      4\u001b[0m \u001b[0mplt\u001b[0m\u001b[1;33m.\u001b[0m\u001b[0mplot\u001b[0m\u001b[1;33m(\u001b[0m\u001b[0mcosed\u001b[0m\u001b[1;33m,\u001b[0m \u001b[0mlabel\u001b[0m \u001b[1;33m=\u001b[0m \u001b[1;34m\"cosed\"\u001b[0m\u001b[1;33m)\u001b[0m\u001b[1;33m\u001b[0m\u001b[1;33m\u001b[0m\u001b[0m\n\u001b[0;32m      5\u001b[0m \u001b[0mplt\u001b[0m\u001b[1;33m.\u001b[0m\u001b[0mlegend\u001b[0m\u001b[1;33m(\u001b[0m\u001b[1;33m)\u001b[0m\u001b[1;33m\u001b[0m\u001b[1;33m\u001b[0m\u001b[0m\n",
      "\u001b[1;31mNameError\u001b[0m: name 'sined' is not defined"
     ]
    }
   ],
   "source": [
    "#use matplotlib to visualize\n",
    "import matplotlib.pyplot as plt\n",
    "plt.plot(sined, label = \"sined\")\n",
    "plt.plot(cosed, label = \"cosed\")\n",
    "plt.legend()\n",
    "plt.show()"
   ]
  },
  {
   "cell_type": "code",
   "execution_count": null,
   "id": "dd716a8c",
   "metadata": {},
   "outputs": [],
   "source": [
    "\n"
   ]
  },
  {
   "cell_type": "code",
   "execution_count": null,
   "id": "a1b80be4",
   "metadata": {},
   "outputs": [],
   "source": []
  }
 ],
 "metadata": {
  "kernelspec": {
   "display_name": "Python 3 (ipykernel)",
   "language": "python",
   "name": "python3"
  },
  "language_info": {
   "codemirror_mode": {
    "name": "ipython",
    "version": 3
   },
   "file_extension": ".py",
   "mimetype": "text/x-python",
   "name": "python",
   "nbconvert_exporter": "python",
   "pygments_lexer": "ipython3",
   "version": "3.9.13"
  }
 },
 "nbformat": 4,
 "nbformat_minor": 5
}
